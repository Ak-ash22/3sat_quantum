{
 "cells": [
  {
   "cell_type": "code",
   "execution_count": 102,
   "metadata": {},
   "outputs": [],
   "source": [
    "\n",
    "import numpy as np\n",
    "import math\n",
    "import qiskit\n",
    "from qiskit import QuantumCircuit, QuantumRegister, ClassicalRegister,Aer, transpile, execute\n",
    "from qiskit.visualization import plot_histogram"
   ]
  },
  {
   "cell_type": "code",
   "execution_count": 103,
   "metadata": {},
   "outputs": [],
   "source": [
    "def create_lists(original_list):\n",
    "    pos_var = []\n",
    "    neg_var = []\n",
    "    none = []\n",
    "    for index,item in enumerate(original_list):\n",
    "        if item==0:\n",
    "            pos_var.append(index)\n",
    "        elif item==1:\n",
    "            neg_var.append(index)\n",
    "        else:\n",
    "             none.append(index)\n",
    "    return pos_var,neg_var,none"
   ]
  },
  {
   "cell_type": "code",
   "execution_count": 104,
   "metadata": {},
   "outputs": [],
   "source": [
    "def encode_clause(list):\n",
    "    \n",
    "    num_of_variables = len(list)\n",
    "    positive_var,negative_var,either_var = create_lists(list)\n",
    "    \n",
    "    qr = QuantumRegister(num_of_variables+1)\n",
    "    cr = ClassicalRegister(num_of_variables)\n",
    "    qc = QuantumCircuit(qr,cr)\n",
    "    \n",
    "    #Building the oracle\n",
    "    \n",
    "    #negating the variables\n",
    "    if len(negative_var)!=0:\n",
    "        qc.x(qr[i] for i in negative_var)\n",
    "        qc.barrier()\n",
    "\n",
    "    #Logical OR operation\n",
    "    qc.x([qr[i] for i in (positive_var+negative_var)])\n",
    "    #qc.mct([qr[i] for i in range(num_of_variables)],qr[[-1]])\n",
    "    qc.mct([qr[i] for i in (positive_var+negative_var)],qr[-1])\n",
    "    qc.x([qr[i] for i in (positive_var+negative_var)])\n",
    "    qc.barrier()\n",
    "\n",
    "    #Bringing the negated variables to original form\n",
    "    if len(negative_var)!=0:\n",
    "        qc.x(qr[i] for i in negative_var)\n",
    "        qc.barrier()\n",
    "    \n",
    "    return qc"
   ]
  },
  {
   "cell_type": "code",
   "execution_count": 105,
   "metadata": {},
   "outputs": [],
   "source": [
    "def diffusion_circ(list):\n",
    "    num_of_variables = len(list)\n",
    "    \n",
    "    qr = QuantumRegister(num_of_variables+1)\n",
    "    cr = ClassicalRegister(num_of_variables+1)\n",
    "    qc = QuantumCircuit(qr,cr)\n",
    "    \n",
    "    qc.h(qr[:])\n",
    "    qc.x(qr[:])\n",
    "    qc.h(qr[-1])\n",
    "    qc.mct([qr[i] for i in range(num_of_variables)],qr[[-1]])\n",
    "    qc.h(qr[-1])\n",
    "    qc.x(qr[:])\n",
    "    qc.h(qr[:])\n",
    "    \n",
    "    return qc"
   ]
  },
  {
   "cell_type": "code",
   "execution_count": 106,
   "metadata": {},
   "outputs": [],
   "source": [
    "# def encode_clause(list):\n",
    "    \n",
    "#     num_of_variables = len(list)\n",
    "#     positive_var,negative_var = create_lists(list)\n",
    "    \n",
    "#     qr = QuantumRegister(num_of_variables+1)\n",
    "#     cr = ClassicalRegister(num_of_variables+1)\n",
    "#     qc = QuantumCircuit(qr,cr)\n",
    "    \n",
    "#     #Building the oracle\n",
    "    \n",
    "#     #negating the variables\n",
    "#     if len(negative_var)!=0:\n",
    "#         qc.x(qr[i] for i in negative_var)\n",
    "#         qc.barrier()\n",
    "\n",
    "#     #Logical OR operation\n",
    "#     qc.x(qr[0:num_of_variables])\n",
    "#     qc.mct([qr[i] for i in range(num_of_variables)],qr[[-1]])\n",
    "#     qc.x(qr[0:num_of_variables])\n",
    "#     qc.barrier()\n",
    "\n",
    "#     #Bringing the negated variables to original form\n",
    "#     if len(negative_var)!=0:\n",
    "#         qc.x(qr[i] for i in negative_var)\n",
    "#         qc.barrier()\n",
    "    \n",
    "#     return qc"
   ]
  }
 ],
 "metadata": {
  "kernelspec": {
   "display_name": "qc",
   "language": "python",
   "name": "python3"
  },
  "language_info": {
   "codemirror_mode": {
    "name": "ipython",
    "version": 3
   },
   "file_extension": ".py",
   "mimetype": "text/x-python",
   "name": "python",
   "nbconvert_exporter": "python",
   "pygments_lexer": "ipython3",
   "version": "3.11.5"
  }
 },
 "nbformat": 4,
 "nbformat_minor": 2
}

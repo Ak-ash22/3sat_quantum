{
 "cells": [
  {
   "cell_type": "code",
   "execution_count": 94,
   "metadata": {},
   "outputs": [],
   "source": [
    "\n",
    "import numpy as np\n",
    "import math\n",
    "import qiskit\n",
    "from qiskit import QuantumCircuit, QuantumRegister, ClassicalRegister,Aer, transpile, execute\n",
    "from qiskit.visualization import plot_histogram"
   ]
  },
  {
   "cell_type": "code",
   "execution_count": 95,
   "metadata": {},
   "outputs": [],
   "source": [
    "def create_lists(clause):\n",
    "    pos_var = []\n",
    "    neg_var = []\n",
    "    none = []\n",
    "    for index,item in enumerate(clause):\n",
    "        if item>0:\n",
    "            pos_var.append(index)\n",
    "        elif item<0:\n",
    "            neg_var.append(index)\n",
    "        else:\n",
    "             none.append(index)\n",
    "    return pos_var,neg_var,none"
   ]
  },
  {
   "cell_type": "code",
   "execution_count": 96,
   "metadata": {},
   "outputs": [],
   "source": [
    "def encode_clause(clause,circuit,qreg):\n",
    "    \n",
    "    num_of_variables = len(clause)\n",
    "    positive_var,negative_var,either_var = create_lists(clause)\n",
    "    \n",
    "    #Building the oracle\n",
    "    \n",
    "    #negating the variables\n",
    "    if len(negative_var)!=0:\n",
    "        circuit.x(qreg[i] for i in negative_var)\n",
    "        circuit.barrier()\n",
    "\n",
    "    #Logical OR operation\n",
    "    circuit.x([qreg[i] for i in (positive_var+negative_var)])\n",
    "    #qc.mct([qreg[i] for i in range(num_of_variables)],qr[[-1]])\n",
    "    circuit.mct([qreg[i] for i in (positive_var+negative_var)],qreg[-1])\n",
    "    circuit.x([qreg[i] for i in (positive_var+negative_var)])\n",
    "    circuit.barrier()\n",
    "\n",
    "    #Bringing the negated variables to original form\n",
    "    if len(negative_var)!=0:\n",
    "        circuit.x(qreg[i] for i in negative_var)\n",
    "        circuit.barrier()\n",
    "    \n",
    "    return circuit"
   ]
  },
  {
   "cell_type": "code",
   "execution_count": 97,
   "metadata": {},
   "outputs": [],
   "source": [
    "def diffusion_circ(list):\n",
    "    num_of_variables = len(list)\n",
    "    \n",
    "    qr = QuantumRegister(num_of_variables+1)\n",
    "    cr = ClassicalRegister(num_of_variables+1)\n",
    "    qc = QuantumCircuit(qr,cr)\n",
    "    \n",
    "    qc.h(qr[:])\n",
    "    qc.x(qr[:])\n",
    "    qc.h(qr[-1])\n",
    "    qc.mct([qr[i] for i in range(num_of_variables)],qr[[-1]])\n",
    "    qc.h(qr[-1])\n",
    "    qc.x(qr[:])\n",
    "    qc.h(qr[:])\n",
    "    \n",
    "    return qc"
   ]
  },
  {
   "cell_type": "markdown",
   "metadata": {},
   "source": [
    "### 3-SAT problem"
   ]
  },
  {
   "cell_type": "code",
   "execution_count": 106,
   "metadata": {},
   "outputs": [],
   "source": [
    "def hybrid_3mct(circuit,clause,aux,f_in,f_out):\n",
    "    # circuit.ccx(control_qbits[0],control_qbits[1],aux[0])\n",
    "    # circuit.ccx(control_qbits[2],aux[0],f_out[0])\n",
    "    # circuit.ccx(control_qbits[0],control_qbits[1],aux[0])\n",
    "    control_qbits = [abs(val) for i,val in enumerate(clause) if val!=0]\n",
    "    print(control_qbits)\n",
    "    circuit.ccx(f_in[control_qbits[0]-1],f_in[control_qbits[1]-1],aux[0])\n",
    "    circuit.ccx(f_in[control_qbits[2]-1],aux[0],f_out[0])\n",
    "    circuit.ccx(f_in[control_qbits[0]-1],f_in[control_qbits[1]-1],aux[0])\n",
    "    return circuit\n",
    "\n",
    "def hybrid_oracle(circuit,f_in,f_out,aux,n,sat_formula):\n",
    "    \n",
    "    for clause in sat_formula:    \n",
    "        for i in range(len(clause)):\n",
    "            #Encoding positive variables\n",
    "            if clause[i]>0:\n",
    "                circuit.x(f_in[clause[i]-1])\n",
    "        hybrid_3mct(circuit,clause,aux,f_in,f_out)\n",
    "        for i in range(len(clause)):\n",
    "            #Encoding positive variables\n",
    "            if clause[i]>0:\n",
    "                circuit.x(f_in[clause[i]-1])\n",
    "        circuit.barrier()\n",
    "        \n",
    "    return circuit  \n",
    "\n",
    "def diffusion_circ3(circuit,f_in,aux):\n",
    "    circuit.h(f_in[:])\n",
    "    circuit.x(f_in[:])\n",
    "    circuit.h(f_in[-1])\n",
    "    if len(f_in[:])==3:\n",
    "        circuit.ccx(f_in[0],f_in[1],f_in[-1])\n",
    "    elif len(f_in[:])==4:\n",
    "        circuit.ccx(f_in[0],f_in[1],aux[0])\n",
    "        circuit.ccx(aux[0],f_in[2],f_in[-1])\n",
    "        circuit.ccx(f_in[0],f_in[1],aux[0])\n",
    "    circuit.h(f_in[-1])\n",
    "    circuit.x(f_in[:])\n",
    "    circuit.h(f_in[:])\n",
    "    circuit.barrier()\n",
    "    \n",
    "    return circuit"
   ]
  },
  {
   "cell_type": "code",
   "execution_count": 108,
   "metadata": {},
   "outputs": [],
   "source": [
    "def hybrid_sat3(sat_formula):\n",
    "    n = max(max(sat_formula))\n",
    "    print(n)\n",
    "    f_in = QuantumRegister(n)\n",
    "    f_out = QuantumRegister(1)\n",
    "    aux = QuantumRegister(n-2)\n",
    "    cr = ClassicalRegister(n)\n",
    "    circuit = QuantumCircuit(f_in,f_out,aux,cr)\n",
    "\n",
    "    #Superposition of input states\n",
    "    for i in range(n):\n",
    "        circuit.h(f_in[i])\n",
    "    # circuit.x(aux[1])\n",
    "    # circuit.h(aux[1])\n",
    "    #initializing f_out qubit with state |1>\n",
    "    circuit.x(f_out[0])\n",
    "    circuit.barrier()\n",
    "    \n",
    "    #oracle\n",
    "    for _ in range(math.floor(math.pi*math.sqrt(2**n)/4 - 0.5)):\n",
    "        hybrid_oracle(circuit,f_in,f_out,aux,n,sat_formula)\n",
    "        circuit.z(f_out[0])\n",
    "    # circuit.cx(f_out[0],aux[1])\n",
    "        circuit.barrier()\n",
    "    #diffusion operator\n",
    "        diffusion_circ3(circuit,f_in,aux)\n",
    "    #phase kickback\n",
    "\n",
    "    circuit.measure(f_in[:],cr[:])\n",
    "    \n",
    "    return circuit\n",
    "        "
   ]
  },
  {
   "cell_type": "code",
   "execution_count": 57,
   "metadata": {},
   "outputs": [],
   "source": [
    "#Generating random k-SAT problem\n",
    "import random\n",
    "def random_kcnf(n_literals, n_conjuncts, k=3):\n",
    "    result = []\n",
    "    for _ in range(n_conjuncts):\n",
    "        sat_clause = random.sample(range(1,n_literals+1),3)\n",
    "        k = random.randint(0,4)\n",
    "        if k==1:\n",
    "            pick_var = random.randint(0,3)\n",
    "            sat_clause[pick_var] = -sat_clause[pick_var]\n",
    "        elif k==2:\n",
    "            pick_var = random.sample(range(0,3),2)\n",
    "            sat_clause[pick_var[0]] = -sat_clause[pick_var[0]]\n",
    "            sat_clause[pick_var[1]] = -sat_clause[pick_var[1]]\n",
    "        elif k==3:\n",
    "            sat_clause = [-x for x in sat_clause]\n",
    "        elif k==0:\n",
    "            sat_clause = sat_clause\n",
    "        #print(sat_clause)\n",
    "        sat_clause = sorted(sat_clause,key=abs) \n",
    "        result.append(sat_clause)\n",
    "    return result"
   ]
  },
  {
   "cell_type": "code",
   "execution_count": 58,
   "metadata": {},
   "outputs": [
    {
     "data": {
      "text/plain": [
       "[[1, -2, -3], [-1, -2, 3], [-1, -2, -3], [1, 2, 3], [-1, -2, -3], [1, 2, 3]]"
      ]
     },
     "execution_count": 58,
     "metadata": {},
     "output_type": "execute_result"
    }
   ],
   "source": [
    "random_kcnf(3,6,3)"
   ]
  },
  {
   "cell_type": "code",
   "execution_count": 41,
   "metadata": {},
   "outputs": [],
   "source": [
    "def classical_sat_checker(sat_formula,quantum_solution):\n",
    "    \n",
    "    sat_solution = []\n",
    "    for k in range(len(quantum_solution)):              #for each clause in a classical part of sat_formula\n",
    "        final_result = []\n",
    "        for sat_clause in sat_formula:                  #for each solution from set of quantum valid solutions\n",
    "            clause_result = []\n",
    "            for variable,quant_variable in zip(sat_clause,list(quantum_solution[k])):   #For a each sat clause and each quantum solution we zip each literals correspondingly\n",
    "                if variable>0 and int(quant_variable)>0:\n",
    "                    clause_result.append('yes')\n",
    "                elif variable<0 and int(quant_variable)==0:\n",
    "                    clause_result.append('yes')\n",
    "                else:\n",
    "                    clause_result.append('no')\n",
    "            # print(clause_result)\n",
    "            if 'yes' in clause_result:\n",
    "                final_result.append('yes')\n",
    "            else:\n",
    "                final_result.append('no')\n",
    "        all_yes = all(element == 'yes' for element in final_result)\n",
    "        #print(final_result)\n",
    "        if all_yes:\n",
    "            sat_solution.append(quantum_solution[k])                     #Assuming we have only one sat solution\n",
    "\n",
    "    if len(sat_solution)==0:\n",
    "        sat_solution.append('No solution exists')\n",
    "    return(sat_solution)\n"
   ]
  }
 ],
 "metadata": {
  "kernelspec": {
   "display_name": "qc",
   "language": "python",
   "name": "python3"
  },
  "language_info": {
   "codemirror_mode": {
    "name": "ipython",
    "version": 3
   },
   "file_extension": ".py",
   "mimetype": "text/x-python",
   "name": "python",
   "nbconvert_exporter": "python",
   "pygments_lexer": "ipython3",
   "version": "3.11.5"
  }
 },
 "nbformat": 4,
 "nbformat_minor": 2
}
